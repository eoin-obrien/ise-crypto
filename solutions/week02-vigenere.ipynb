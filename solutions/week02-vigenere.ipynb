{
 "cells": [
  {
   "cell_type": "markdown",
   "metadata": {},
   "source": [
    "# Week 2: Vigenère Cipher\n",
    "\n",
    "It's been a long time since I attacked a Vigenère cipher in earnest!\n",
    "A good first step, as always, is to do a quick bit of research to see what kinds of attacks are available.\n",
    "\n",
    "I based my solution on the [Index of Coincidence](https://en.wikipedia.org/wiki/Index_of_coincidence) method.\n",
    "This allowed me to determine the length of the key very quickly using the Friedman test.\n",
    "\n",
    "Once I had the key length, I split the ciphertext into columns. The first column contains all the characters that were encrypted with the first letter of the key, the second column contains all the characters that were encrypted with the second letter of the key, and so on. This allowed me to solve each column as a simple Caesar cipher!\n",
    "\n",
    "The decrypted columns aren't going to be words, so we can't crib-drag them, but we can still do frequency analysis. This worked really well, even though my frequency analysis was a bit rough and ready. I *should* have used a proper statistcal test to compare the sample frequencies to the expected frequencies, but it was more than good enough for this challenge.\n",
    "\n",
    "It's worth noting that my solution here is predicated on the plaintext being in English. If the plaintext was in a different language, I would have needed to use a different set of expected frequencies, and a different expected index of coincidence when determining the key length. Also, if the ciphertexts were very short, other methods would be more appropriate than a frequency analysis.\n",
    "\n",
    "There are plenty of other approaches that I haven't used here. For example, you could run a quick dictionary attack on the key, trying likely English words to see if they decrypt the text into something sensible, or you could simply brute-force the shorter keys. You could also use other methods to determine the key length, such as the [Kasiski examination](https://en.wikipedia.org/wiki/Kasiski_examination).\n"
   ]
  },
  {
   "cell_type": "code",
   "execution_count": 75,
   "metadata": {},
   "outputs": [],
   "source": [
    "# Before we get started with the challenges, let's set up some basics!\n",
    "from typing import List\n",
    "\n",
    "ALPHABET = \"\".join(chr(i + ord(\"A\")) for i in range(26))\n",
    "ENGLISH_INDEX_OF_COINCIDENCE = 1.73 / len(ALPHABET)\n",
    "\n",
    "\n",
    "# It's a good idea to have a sanitizer function that removes non-alphabetic characters from the text and converts it to uppercase.\n",
    "def strip_non_alpha(ciphertext: str) -> str:\n",
    "    return \"\".join(char for char in ciphertext.upper() if char in ALPHABET)\n",
    "\n",
    "\n",
    "# See https://en.wikipedia.org/wiki/Index_of_coincidence\n",
    "def index_of_coincidence(text: str) -> float:\n",
    "    text = strip_non_alpha(text)\n",
    "    n = len(text)\n",
    "    return sum(text.count(letter) * (text.count(letter) - 1) for letter in ALPHABET) / (\n",
    "        n * (n - 1)\n",
    "    )\n",
    "\n",
    "\n",
    "# This function slices the text into n parts, where the i-th part contains every n-th character.\n",
    "def slice_text(text: str, n: int) -> List[str]:\n",
    "    text = strip_non_alpha(text)\n",
    "    return [text[i::n] for i in range(n)]\n",
    "\n",
    "\n",
    "# This function tries to find the period of the repeating key, i.e. the key length.\n",
    "def find_key_length(ciphertext: str, max_key_length=20, tolerance=0.005) -> int:\n",
    "    # Let's try key lengths from 1 to a sensible maximum\n",
    "    for key_length in range(1, max_key_length + 1):\n",
    "        # Group the ciphertext chars that were encrypted with the same key char\n",
    "        parts = slice_text(ciphertext, key_length)\n",
    "        # Calculate the index of coincidence for each group and take the mean\n",
    "        mean_ioc = sum(index_of_coincidence(part) for part in parts) / key_length\n",
    "        # If the average index of coincidence is close to the one of English text, we found the key length\n",
    "        if abs(mean_ioc - ENGLISH_INDEX_OF_COINCIDENCE) < tolerance:\n",
    "            return key_length\n",
    "        \n",
    "    # If we didn't find a likely key length, return -1\n",
    "    return -1\n"
   ]
  },
  {
   "cell_type": "code",
   "execution_count": 76,
   "metadata": {},
   "outputs": [],
   "source": [
    "import functools\n",
    "import itertools\n",
    "\n",
    "\n",
    "\n",
    "# We don't want to fetch the letter frequencies every time we call the function, so we cache the result.\n",
    "@functools.lru_cache()\n",
    "def english_letter_frequencies():\n",
    "    import requests\n",
    "    import json\n",
    "\n",
    "    # Fetch and parse the letter frequencies from GitHub\n",
    "    response = requests.get(\n",
    "        \"https://gist.githubusercontent.com/evilpacket/5973230/raw/045e0ecc34c6362728a9bce62d5cd2e41d29ad9a/letter_freq.json\"\n",
    "    )\n",
    "    frequencies = json.loads(response.text)\n",
    "    # Transform the keys to uppercase and normalize the values\n",
    "    frequencies = {key.upper(): value / 100 for key, value in frequencies.items()}\n",
    "    return frequencies\n",
    "\n",
    "\n",
    "def english_correlation(text: str) -> float:\n",
    "    text = strip_non_alpha(text)\n",
    "    text = text.upper()\n",
    "    n = len(text)\n",
    "    english_frequencies = english_letter_frequencies()\n",
    "    sample_frequencies = {letter: text.count(letter) / n for letter in ALPHABET}\n",
    "    return sum(\n",
    "        abs(english_frequencies[letter] - sample_frequencies[letter])\n",
    "        for letter in ALPHABET\n",
    "    )\n",
    "\n",
    "\n",
    "def caesar_shift(text: str, shift: int) -> str:\n",
    "    text = strip_non_alpha(text).upper()\n",
    "    shift = shift % len(ALPHABET)\n",
    "    shifted_alphabet = ALPHABET[shift:] + ALPHABET[:shift]\n",
    "    shifted_text = \"\".join(\n",
    "        shifted_alphabet[ALPHABET.index(letter)] if letter in ALPHABET else letter\n",
    "        for letter in text\n",
    "    )\n",
    "    return shifted_text\n",
    "\n",
    "\n",
    "def vigenere_decrypt(ciphertext: str, key: str) -> str:\n",
    "    key = key.upper()\n",
    "    plaintext = \"\"\n",
    "    key_index = 0\n",
    "    for char in ciphertext:\n",
    "        if char in ALPHABET:\n",
    "            shift = ALPHABET.index(key[key_index])\n",
    "            plaintext += caesar_shift(char, -shift)\n",
    "            key_index = (key_index + 1) % len(key)\n",
    "        else:\n",
    "            plaintext += char\n",
    "    return plaintext\n",
    "\n",
    "\n",
    "def crack_vigenere(ciphertext: str, max_key_length=20, correlation_threshold=0.5):\n",
    "    # First, we need to find the key length\n",
    "    key_length = find_key_length(ciphertext, max_key_length)\n",
    "    print(\"Key length:\", key_length)\n",
    "\n",
    "    # Next, we need to slice the ciphertext into key_length columns\n",
    "    columns = slice_text(ciphertext, key_length)\n",
    "\n",
    "    # Each column was encrypted with the same key character, so we just need to solve each column as a Caesar cipher.\n",
    "    # Now we need to find the most likely key character for each column\n",
    "    # This is way more efficient than trying all possible keys!\n",
    "    candidate_keys = []\n",
    "    for column in columns:\n",
    "        key_char_candidates = []\n",
    "        for shift in range(len(ALPHABET)):\n",
    "            # Shift the column and calculate the correlation with English letter frequencies\n",
    "            shifted_column = caesar_shift(column, -shift)\n",
    "            correlation = english_correlation(shifted_column)\n",
    "            # If the correlation is close enough to 0, we found a likely key character!\n",
    "            # We keep track of multiple candidates, as the correlation is not a perfect metric.\n",
    "            if correlation < correlation_threshold:\n",
    "                key_char_candidates.append(ALPHABET[shift])\n",
    "        candidate_keys.append(key_char_candidates)\n",
    "\n",
    "    # We now have a list of candidate key characters for each column.\n",
    "    # Let's try all possible combinations of these candidates to find the correct key!\n",
    "    # This works very well for these challenges with just a visual inspection of the output.\n",
    "    # For a real-world scenario, you might automate this with a dictionary or a n-gram frequency analysis.\n",
    "    for key in itertools.product(*candidate_keys):\n",
    "        key = \"\".join(key)\n",
    "        print(\"Candidate key:\", key)\n",
    "        plaintext = vigenere_decrypt(ciphertext, key)\n",
    "        print(\"Plaintext:\", plaintext.replace(\" \", \"\"))"
   ]
  },
  {
   "cell_type": "markdown",
   "metadata": {},
   "source": [
    "## Vigenère Challenge 1\n",
    "\n",
    "The following ciphertext was produced by a Vigenère Cipher. Only the characters A-Z were encrypted; other characters were discarded and spaces included only for display purposes Luckily, your adversary was lax and used a short key of 5 characters or less! See if you can crack the code.\n",
    "\n",
    "For all of these challenges, letting me know the source of the text is sufficient!\n",
    "\n",
    "\n",
    "\n",
    "> VROMW GYIHW NWPOB HUOBO RNTEW DTIWT YIVAA PRKRL NHNHJ PYIJS NRCCB YWTRR JNPIJ NQIJS LYWAS JNCGI MMNRW EEWQI FWRSG IASJI AESMW EJSVE AARTU EWAVV XFQIL IQIMF NWQIB RQIFF AOGLN RVRUA JQAHH VBTZI AEYCU OBOND GLNGR RCLRQ JNOYC HVWOR VIWDZ VMAEG HSBSW DEIFT UIJTG IWTVS WOSXQ EESXM OCQIF JRNRX JLYTN RFSWH NRMSB QNFRE CUEIB NBFUE ZMNNN RMTUI AECSA TJLRC UAJSV RPEAI AAYGR RPYUA GMXNJ MCHVR OIIIV IAYCE FEOTR VQIFI WTEEW CRSOH VWQAI MWGGI WTUSD SNRMA LIJRG LNGRR CLRQN NCVXN BYWCR HQIZX XBREO IAIOI TYAEB JJMNR CHRPJ DVIBD RGUAE IMHRA JSZYL HUEWD FSVEE XQAAQ ABVRP LRCJN QLNWN WUOBO NDNXF IGLPR RECAQ QRRNX ROAJX RNFXU GLJLS XQERZ NNVRP TVPUH VWVAA RNRFK JVREM IFKDS GAQIP LCUER NDGLN TVHNO SLRSC SYUYE AIGCO OELNW NWMIF GXVRV NDGSK ECVXU QXXBR EKOII QIFGX MCEWY NRMAO SEEOI RNTTU ENWND NRMNB XJLYL RSYEA GRIBT NXNIA HNROC BHVVN CBYUD FEEEU MVFES VHNZR NTEVO FXOOE FRDQM WGQMB ATVNE NFUEP SDNGI WAAGN AAHKE VRPUA AXRGL HTBFN CBQYA EIMWV XQHVW ORVIW D\n",
    "\n",
    "\n"
   ]
  },
  {
   "cell_type": "code",
   "execution_count": 77,
   "metadata": {},
   "outputs": [
    {
     "name": "stdout",
     "output_type": "stream",
     "text": [
      "Key length: 4\n",
      "Candidate key: JANE\n",
      "Plaintext: MRBINGLEYWASGOODLOOKINGANDGENTLEMANLIKEHEHADAPLEASANTCOUNTENANCEANDEASYUNAFFECTEDMANNERSHISSISTERSWEREFINEWOMENWITHANAIROFDECIDEDFASHIONHISBROTHERINLAWMRHURSTMERELYLOOKEDTHEGENTLEMANBUTHISFRIENDMRDARCYSOONDREWTHEATTENTIONOFTHEROOMBYHISFINETALLPERSONHANDSOMEFEATURESNOBLEMIENANDTHEREPORTWHICHWASINGENERALCIRCULATIONWITHINFIVEMINUTESAFTERHISENTRANCEOFHISHAVINGTENTHOUSANDAYEARTHEGENTLEMENPRONOUNCEDHIMTOBEAFINEFIGUREOFAMANTHELADIESDECLAREDHEWASMUCHHANDSOMERTHANMRBINGLEYANDHEWASLOOKEDATWITHGREATADMIRATIONFORABOUTHALFTHEEVENINGTILLHISMANNERSGAVEADISGUSTWHICHTURNEDTHETIDEOFHISPOPULARITYFORHEWASDISCOVEREDTOBEPROUDTOBEABOVEHISCOMPANYANDABOVEBEINGPLEASEDANDNOTALLHISLARGEESTATEINDERBYSHIRECOULDSAVEHIMFROMHAVINGAMOSTFORBIDDINGDISAGREEABLECOUNTENANCEANDBEINGUNWORTHYTOBECOMPAREDWITHHISFRIEND\n"
     ]
    }
   ],
   "source": [
    "ciphertext = \"VROMW GYIHW NWPOB HUOBO RNTEW DTIWT YIVAA PRKRL NHNHJ PYIJS NRCCB YWTRR JNPIJ NQIJS LYWAS JNCGI MMNRW EEWQI FWRSG IASJI AESMW EJSVE AARTU EWAVV XFQIL IQIMF NWQIB RQIFF AOGLN RVRUA JQAHH VBTZI AEYCU OBOND GLNGR RCLRQ JNOYC HVWOR VIWDZ VMAEG HSBSW DEIFT UIJTG IWTVS WOSXQ EESXM OCQIF JRNRX JLYTN RFSWH NRMSB QNFRE CUEIB NBFUE ZMNNN RMTUI AECSA TJLRC UAJSV RPEAI AAYGR RPYUA GMXNJ MCHVR OIIIV IAYCE FEOTR VQIFI WTEEW CRSOH VWQAI MWGGI WTUSD SNRMA LIJRG LNGRR CLRQN NCVXN BYWCR HQIZX XBREO IAIOI TYAEB JJMNR CHRPJ DVIBD RGUAE IMHRA JSZYL HUEWD FSVEE XQAAQ ABVRP LRCJN QLNWN WUOBO NDNXF IGLPR RECAQ QRRNX ROAJX RNFXU GLJLS XQERZ NNVRP TVPUH VWVAA RNRFK JVREM IFKDS GAQIP LCUER NDGLN TVHNO SLRSC SYUYE AIGCO OELNW NWMIF GXVRV NDGSK ECVXU QXXBR EKOII QIFGX MCEWY NRMAO SEEOI RNTTU ENWND NRMNB XJLYL RSYEA GRIBT NXNIA HNROC BHVVN CBYUD FEEEU MVFES VHNZR NTEVO FXOOE FRDQM WGQMB ATVNE NFUEP SDNGI WAAGN AAHKE VRPUA AXRGL HTBFN CBQYA EIMWV XQHVW ORVIW D\"\n",
    "crack_vigenere(ciphertext)"
   ]
  },
  {
   "cell_type": "markdown",
   "metadata": {},
   "source": [
    "## Vigenère Challenge 2\n",
    "\n",
    "Same story as above, but this time, the key's a bit longer. You might want to research good attacks to use against this cipher, rather than diving in with a brute force attack!\n",
    "\n",
    "\n",
    "\n",
    "> ZOFGM WBMXD YTDEO WXIVO MDVFF HVEIS GQQAI LWFGZ QNZGM TRWZT YVMNG MDYKA ITGZU SNHZL QOMSS XQNTO MTTAM DXWQN CRINQ UXOJX TYOQU NKXTL VYQNT XAGEW MTVKB HNFYA ELINQ QQTRL UOELM LRLPI FGINK AITNK YEEUC SVWPT YXUSR DHEJT JOHLF HVBZV NJUOL LKOAU QRELB HRQIE IXACE MFIEB AEQSZ DJMCD VWPPV KPACK MLDHA TNKZA IKWWY QMSRF INJAF HRFQC EGECF IMMVY TTJVZ UGAZI JXBHR LDAEL QEALO RVTBU EWETY TBSJS DMRGL MHDFI GEGIA SPRFI WFJSF EIPQT UAZFZ GQTRU AMGEI CRFOY DXVWR FFTFT VDSJA OMXZT UAEGC HJENT AUKMP EVJXI KMTEN XRAZK ASRJQ NVBVT UWURR LAUES ZCVHN TUWUR VFXIE WAVVK UAGLQ RZMQS CGESZ UTEGZ MTKAM IAXGS FKQAH FPEIM PEZAO RFLKO CWPOK AMSNE QNFHV ETSHE RMPOH YTTKH BHRGX DVKEO EDPSF YAPNU QAJLW UEUQS FYPUZ SZDRG OEEGD TYHCG ULAFK AMMBF XYKHL IFEUS JMPEV VQAFY TISWG PFGBH REMSZ FXOFK UBCXW RVEBR FUIBY WUTZL KUEAA UJMWR RUMLC LWMRG RTYXU EALML YTJIG KAFKA WSRVQ PRKBE QVMYJ TBMBK FTVKZ EFLDI REUEA XMNTB MDGZQ RVFQG ULNEF MPEEE QNLIW NZSDS GXZHN HEIEY MRVGD TFMPE ZKQLM XAAAV DERWG TBOQL THUEN EUSJB WNNJK EEMMR CJUSV RMTNU DOJLB HRYGL WHNSC SOEDB VDFLT AKTZE GGAUI FQNQK MSFNZ SNJQT FMPOF WAFKA MBRSE TJMPA GHQRZ LPIAL QLCXK TFNMS KTVDP GALRG LUAKK MGTBH RLUCI XOAEV QDKAQ SRSDT YPQTU WZVZH CSRQQ SRGLS YGILP TVDFM DECRL RROFH VBZPY SZSRZ IIAKF UJTVD RSDLP BVTUW FWVGB IRLTC VGBUE QOADX BHRYD ERMLI FAXLL LQOAE QNK\n",
    "\n",
    "\n",
    "\n"
   ]
  },
  {
   "cell_type": "code",
   "execution_count": 78,
   "metadata": {},
   "outputs": [
    {
     "name": "stdout",
     "output_type": "stream",
     "text": [
      "Key length: 8\n",
      "Candidate key: MARTIANS\n",
      "Plaintext: NOONEWOULDHAVEBELIEVEDINTHELASTYEARSOFTHENINETEENTHCENTURYTHATTHISWORLDWASBEINGWATCHEDKEENLYANDCLOSELYBYINTELLIGENCESGREATERTHANMANSANDYETASMORTALASHISOWNTHATASMENBUSIEDTHEMSELVESABOUTTHEIRVARIOUSCONCERNSTHEYWERESCRUTINISEDANDSTUDIEDPERHAPSALMOSTASNARROWLYASAMANWITHAMICROSCOPEMIGHTSCRUTINISETHETRANSIENTCREATURESTHATSWARMANDMULTIPLYINADROPOFWATERWITHINFINITECOMPLACENCYMENWENTTOANDFROOVERTHISGLOBEABOUTTHEIRLITTLEAFFAIRSSERENEINTHEIRASSURANCEOFTHEIREMPIREOVERMATTERITISPOSSIBLETHATTHEINFUSORIAUNDERTHEMICROSCOPEDOTHESAMENOONEGAVEATHOUGHTTOTHEOLDERWORLDSOFSPACEASSOURCESOFHUMANDANGERORTHOUGHTOFTHEMONLYTODISMISSTHEIDEAOFLIFEUPONTHEMASIMPOSSIBLEORIMPROBABLEITISCURIOUSTORECALLSOMEOFTHEMENTALHABITSOFTHOSEDEPARTEDDAYSATMOSTTERRESTRIALMENFANCIEDTHEREMIGHTBEOTHERMENUPONMARSPERHAPSINFERIORTOTHEMSELVESANDREADYTOWELCOMEAMISSIONARYENTERPRISEYETACROSSTHEGULFOFSPACEMINDSTHATARETOOURMINDSASOURSARETOTHOSEOFTHEBEASTSTHATPERISHINTELLECTSVASTANDCOOLANDUNSYMPATHETICREGARDEDTHISEARTHWITHENVIOUSEYESANDSLOWLYANDSURELYDREWTHEIRPLANSAGAINSTUSANDEARLYINTHETWENTIETHCENTURYCAMETHEGREATDISILLUSIONMENT\n"
     ]
    }
   ],
   "source": [
    "ciphertext = \"ZOFGM WBMXD YTDEO WXIVO MDVFF HVEIS GQQAI LWFGZ QNZGM TRWZT YVMNG MDYKA ITGZU SNHZL QOMSS XQNTO MTTAM DXWQN CRINQ UXOJX TYOQU NKXTL VYQNT XAGEW MTVKB HNFYA ELINQ QQTRL UOELM LRLPI FGINK AITNK YEEUC SVWPT YXUSR DHEJT JOHLF HVBZV NJUOL LKOAU QRELB HRQIE IXACE MFIEB AEQSZ DJMCD VWPPV KPACK MLDHA TNKZA IKWWY QMSRF INJAF HRFQC EGECF IMMVY TTJVZ UGAZI JXBHR LDAEL QEALO RVTBU EWETY TBSJS DMRGL MHDFI GEGIA SPRFI WFJSF EIPQT UAZFZ GQTRU AMGEI CRFOY DXVWR FFTFT VDSJA OMXZT UAEGC HJENT AUKMP EVJXI KMTEN XRAZK ASRJQ NVBVT UWURR LAUES ZCVHN TUWUR VFXIE WAVVK UAGLQ RZMQS CGESZ UTEGZ MTKAM IAXGS FKQAH FPEIM PEZAO RFLKO CWPOK AMSNE QNFHV ETSHE RMPOH YTTKH BHRGX DVKEO EDPSF YAPNU QAJLW UEUQS FYPUZ SZDRG OEEGD TYHCG ULAFK AMMBF XYKHL IFEUS JMPEV VQAFY TISWG PFGBH REMSZ FXOFK UBCXW RVEBR FUIBY WUTZL KUEAA UJMWR RUMLC LWMRG RTYXU EALML YTJIG KAFKA WSRVQ PRKBE QVMYJ TBMBK FTVKZ EFLDI REUEA XMNTB MDGZQ RVFQG ULNEF MPEEE QNLIW NZSDS GXZHN HEIEY MRVGD TFMPE ZKQLM XAAAV DERWG TBOQL THUEN EUSJB WNNJK EEMMR CJUSV RMTNU DOJLB HRYGL WHNSC SOEDB VDFLT AKTZE GGAUI FQNQK MSFNZ SNJQT FMPOF WAFKA MBRSE TJMPA GHQRZ LPIAL QLCXK TFNMS KTVDP GALRG LUAKK MGTBH RLUCI XOAEV QDKAQ SRSDT YPQTU WZVZH CSRQQ SRGLS YGILP TVDFM DECRL RROFH VBZPY SZSRZ IIAKF UJTVD RSDLP BVTUW FWVGB IRLTC VGBUE QOADX BHRYD ERMLI FAXLL LQOAE QNK\"\n",
    "crack_vigenere(ciphertext)"
   ]
  },
  {
   "cell_type": "markdown",
   "metadata": {},
   "source": [
    "## Vigenère Challenge 3\n",
    "\n",
    "You know the drill; longer key, harder challenge. Best of luck!\n",
    "\n",
    "\n",
    "\n",
    "> FSMJW EEYIV CVUXX FOISE HATAR ARVKT WKLVZ NGTVJ SYDNF BIUAL WPCFF LROSZ WGXFM EFRBM XYTDW FWPLZ JLQBI ATCID STSKH VKAAG VLNJL QJVDY SILFG QWGZZ MMFEA OIUOI JRMXL AIDRN QTRUT CXVFL MAEEY VKMSR ZWMES FRKIM FFALX VYSXZ MPXSJ MFRSG HZUGJ ROLBU KOCAX BHVUG WVBMA LWGQP WLWFM QQHBW XYXMY VFZMR TEDES TWFJM FAGKX YVJDB BWHUE ZRNKB ARSOA AHAXZ XDSRL LSWWI LRFLU BVSVV XXICH GGYRG HYXTS EFUVV LDWCZ TRBTA BZQVL VLOKJ VBVOF DOPWL QPUIJ ISLTU HRWYD LQVDM LURXE PKTHQ GRSLB RVRFL MHRPH UALJV LPAAU MAPWN FRWSI NOMUU VTLAV MJRDE IUMVG ZHAXY ISWBF LXFDE JQGPA PGTWN ETHMH RUVBZ ZPZQG ZWTJF YILNG MXVJF VBKXM TFGDV AXLPR EDVJB XVKFQ GVBLD MZRBX IVFTM KRARW HCPFR SFWSL GGZSF HYIRS ENXRK HRVIW OBKMF FLAGZ RPRLB PXILV EINVX HKOEL GVXIV PQWFL AIJLE LBTYK VWFOA VWIJV PSGWH GPXQJ RJIVV ZIFGG BMZIX TGGFC ZTEYV BTMPS ZOFLA IILKA BBHYI IMIGQ TRUKI DVUAM ALQFR ETVXH VWGHA XZYZW FXHVV CIJIW LBIPQ WGKUV FHHVV GDCBW FGXAK XZUKL USAHY MLCAS GHUPJ XHGBG NEBSE HXXLH PKCZX GKSGF GZXVV MSJJW MAFSG FYWTZ VTCKV GMXYM IWYDI YKZSE RHKNZ XUBCJ XGVKM FTBTO PKMHB JLXYL VWFBH PHRPT EGLXR YITNB BLOIP OAVLE ZSMFT COXYE OOYEL IRDIE NMUXD ERHRV MSRSE FQGNK WEEGV FZMED SFQSK LHRPW ATXEL ACWIS KRYIS WBFAM KOIJG CWBZG AJRJX HFUXZ RVTUP XMPYW ZPFII AGGIK VHGQG AHRJH RVSST MBVQG ZSRFV DMLUC NMLBM ACDXE JALWC VGHTI ZOBXM LVOIS ISGEF FARVW LYEKS MOHXW SCMFR AGXYV WWHBW BZGAJ RJXHJ VPAGI WXZAT OGETC EVXTR SQILG FSQAG ETVYF GFRHM IFSEF TPCPK ZGWFT FXTSE WWMJJ SNRFM ALAAB QJHYJ WSORF PAPGT OGLKE TAWLU SGXLH XSNFW QRFVW TIETA IMHUG NWRUH URZXL AMMZB TLIIC ELVCG LALMH EWJYZ YIGAZ RMOME JBQTK VASJR BWXYX TSVJL IVTMF TSVVL RFFVU BXZLW UBBLB ZXQBG XHVVC IJVGA TSPEO GATXV TCSER XGAGG FVGLM KFAAG VMALW UUULH JRWEJ GCYMO IICED WRVCI JOSYH YIHWF AMIUH RVZOR MYIMR NDTRU UINRF UXMSD SVEIV ZUXWQ PRMOI RCBLH JDHRL USLXH VQALW GXZJI ERBML HRPHU WREIL WMSTB VPIZH GGVSE XYWEO EEMIM FBXWE ENIJB FWXHX TOAVM SZUHM PSFXA SOCZE XRTLX ZVGET ISDWB MLZFF EYRKB MOXTS WGRET OMDQT XXSWI VRFAI VTFSE YLBUE XWGLE ISVEL JWMAO MEVBD BHRFQ SGSLH UEZSK HXHZA MGACY WPWOC IWKCL WLAFB TMPZQ FVNXV SBXKH DIHZM ZUNDE XYLWW PCGCL GFIEW LXFII XNZLX FSGQN FGSKJ SFGSL MALQW AWLXZ TETYS UXUIR WGOAM TOMKU OEEJS ZTRJH RRSPE NBDBU HFCGZ XPRZX YRBXK HXUCA TRHZZ GGISK BUKMD NKLEX LRWNF MALTA ZRLHX YVWWP CNGAV USFLH VVHGZ JVBVO EFDEW LIEAW GZOGR TSZHU KTVVY IIHWL BAIAF OQTWT LVLNW GBUKF VRKXG ILXGS HAXTE SBRLP LZJLA SOMTS PBCFK BFCLG SACGE FFQSS XXGKL HTLOG NUHQF GSDME NWMPV TLTMZ S\n",
    "\n",
    "\n",
    "\n"
   ]
  },
  {
   "cell_type": "code",
   "execution_count": 79,
   "metadata": {},
   "outputs": [
    {
     "name": "stdout",
     "output_type": "stream",
     "text": [
      "Key length: 16\n",
      "Candidate key: HESNOTTHEMONSTER\n",
      "Plaintext: YOUWILLREJOICETOHEARTHATNODISASTERHASACCOMPANIEDTHECOMMENCEMENTOFANENTERPRISEWHICHYOUHAVEREGARDEDWITHSUCHEVILFOREBODINGSIARRIVEDHEREYESTERDAYANDMYFIRSTTASKISTOASSUREMYDEARSISTEROFMYWELFAREANDINCREASINGCONFIDENCEINTHESUCCESSOFMYUNDERTAKINGIAMALREADYFARNORTHOFLONDONANDASIWALKINTHESTREETSOFPETERSBURGHIFEELACOLDNORTHERNBREEZEPLAYUPONMYCHEEKSWHICHBRACESMYNERVESANDFILLSMEWITHDELIGHTDOYOUUNDERSTANDTHISFEELINGTHISBREEZEWHICHHASTRAVELLEDFROMTHEREGIONSTOWARDSWHICHIAMADVANCINGGIVESMEAFORETASTEOFTHOSEICYCLIMESINSPIRITEDBYTHISWINDOFPROMISEMYDAYDREAMSBECOMEMOREFERVENTANDVIVIDITRYINVAINTOBEPERSUADEDTHATTHEPOLEISTHESEATOFFROSTANDDESOLATIONITEVERPRESENTSITSELFTOMYIMAGINATIONASTHEREGIONOFBEAUTYANDDELIGHTTHEREMARGARETTHESUNISFOREVERVISIBLEITSBROADDISKJUSTSKIRTINGTHEHORIZONANDDIFFUSINGAPERPETUALSPLENDOURTHEREFORWITHYOURLEAVEMYSISTERIWILLPUTSOMETRUSTINPRECEDINGNAVIGATORSTHERESNOWANDFROSTAREBANISHEDANDSAILINGOVERACALMSEAWEMAYBEWAFTEDTOALANDSURPASSINGINWONDERSANDINBEAUTYEVERYREGIONHITHERTODISCOVEREDONTHEHABITABLEGLOBEITSPRODUCTIONSANDFEATURESMAYBEWITHOUTEXAMPLEASTHEPHNOMENAOFTHEHEAVENLYBODIESUNDOUBTEDLYAREINTHOSEUNDISCOVEREDSOLITUDESWHATMAYNOTBEEXPECTEDINACOUNTRYOFETERNALLIGHTIMAYTHEREDISCOVERTHEWONDROUSPOWERWHICHATTRACTSTHENEEDLEANDMAYREGULATEATHOUSANDCELESTIALOBSERVATIONSTHATREQUIREONLYTHISVOYAGETORENDERTHEIRSEEMINGECCENTRICITIESCONSISTENTFOREVERISHALLSATIATEMYARDENTCURIOSITYWITHTHESIGHTOFAPARTOFTHEWORLDNEVERBEFOREVISITEDANDMAYTREADALANDNEVERBEFOREIMPRINTEDBYTHEFOOTOFMANTHESEAREMYENTICEMENTSANDTHEYARESUFFICIENTTOCONQUERALLFEAROFDANGERORDEATHANDTOINDUCEMETOCOMMENCETHISLABORIOUSVOYAGEWITHTHEJOYACHILDFEELSWHENHEEMBARKSINALITTLEBOATWITHHISHOLIDAYMATESONANEXPEDITIONOFDISCOVERYUPHISNATIVERIVERBUTSUPPOSINGALLTHESECONJECTURESTOBEFALSEYOUCANNOTCONTESTTHEINESTIMABLEBENEFITWHICHISHALLCONFERONALLMANKINDTOTHELASTGENERATIONBYDISCOVERINGAPASSAGENEARTHEPOLETOTHOSECOUNTRIESTOREACHWHICHATPRESENTSOMANYMONTHSAREREQUISITEORBYASCERTAININGTHESECRETOFTHEMAGNETWHICHIFATALLPOSSIBLECANONLYBEEFFECTEDBYANUNDERTAKINGSUCHASMINE\n"
     ]
    }
   ],
   "source": [
    "ciphertext = \"FSMJW EEYIV CVUXX FOISE HATAR ARVKT WKLVZ NGTVJ SYDNF BIUAL WPCFF LROSZ WGXFM EFRBM XYTDW FWPLZ JLQBI ATCID STSKH VKAAG VLNJL QJVDY SILFG QWGZZ MMFEA OIUOI JRMXL AIDRN QTRUT CXVFL MAEEY VKMSR ZWMES FRKIM FFALX VYSXZ MPXSJ MFRSG HZUGJ ROLBU KOCAX BHVUG WVBMA LWGQP WLWFM QQHBW XYXMY VFZMR TEDES TWFJM FAGKX YVJDB BWHUE ZRNKB ARSOA AHAXZ XDSRL LSWWI LRFLU BVSVV XXICH GGYRG HYXTS EFUVV LDWCZ TRBTA BZQVL VLOKJ VBVOF DOPWL QPUIJ ISLTU HRWYD LQVDM LURXE PKTHQ GRSLB RVRFL MHRPH UALJV LPAAU MAPWN FRWSI NOMUU VTLAV MJRDE IUMVG ZHAXY ISWBF LXFDE JQGPA PGTWN ETHMH RUVBZ ZPZQG ZWTJF YILNG MXVJF VBKXM TFGDV AXLPR EDVJB XVKFQ GVBLD MZRBX IVFTM KRARW HCPFR SFWSL GGZSF HYIRS ENXRK HRVIW OBKMF FLAGZ RPRLB PXILV EINVX HKOEL GVXIV PQWFL AIJLE LBTYK VWFOA VWIJV PSGWH GPXQJ RJIVV ZIFGG BMZIX TGGFC ZTEYV BTMPS ZOFLA IILKA BBHYI IMIGQ TRUKI DVUAM ALQFR ETVXH VWGHA XZYZW FXHVV CIJIW LBIPQ WGKUV FHHVV GDCBW FGXAK XZUKL USAHY MLCAS GHUPJ XHGBG NEBSE HXXLH PKCZX GKSGF GZXVV MSJJW MAFSG FYWTZ VTCKV GMXYM IWYDI YKZSE RHKNZ XUBCJ XGVKM FTBTO PKMHB JLXYL VWFBH PHRPT EGLXR YITNB BLOIP OAVLE ZSMFT COXYE OOYEL IRDIE NMUXD ERHRV MSRSE FQGNK WEEGV FZMED SFQSK LHRPW ATXEL ACWIS KRYIS WBFAM KOIJG CWBZG AJRJX HFUXZ RVTUP XMPYW ZPFII AGGIK VHGQG AHRJH RVSST MBVQG ZSRFV DMLUC NMLBM ACDXE JALWC VGHTI ZOBXM LVOIS ISGEF FARVW LYEKS MOHXW SCMFR AGXYV WWHBW BZGAJ RJXHJ VPAGI WXZAT OGETC EVXTR SQILG FSQAG ETVYF GFRHM IFSEF TPCPK ZGWFT FXTSE WWMJJ SNRFM ALAAB QJHYJ WSORF PAPGT OGLKE TAWLU SGXLH XSNFW QRFVW TIETA IMHUG NWRUH URZXL AMMZB TLIIC ELVCG LALMH EWJYZ YIGAZ RMOME JBQTK VASJR BWXYX TSVJL IVTMF TSVVL RFFVU BXZLW UBBLB ZXQBG XHVVC IJVGA TSPEO GATXV TCSER XGAGG FVGLM KFAAG VMALW UUULH JRWEJ GCYMO IICED WRVCI JOSYH YIHWF AMIUH RVZOR MYIMR NDTRU UINRF UXMSD SVEIV ZUXWQ PRMOI RCBLH JDHRL USLXH VQALW GXZJI ERBML HRPHU WREIL WMSTB VPIZH GGVSE XYWEO EEMIM FBXWE ENIJB FWXHX TOAVM SZUHM PSFXA SOCZE XRTLX ZVGET ISDWB MLZFF EYRKB MOXTS WGRET OMDQT XXSWI VRFAI VTFSE YLBUE XWGLE ISVEL JWMAO MEVBD BHRFQ SGSLH UEZSK HXHZA MGACY WPWOC IWKCL WLAFB TMPZQ FVNXV SBXKH DIHZM ZUNDE XYLWW PCGCL GFIEW LXFII XNZLX FSGQN FGSKJ SFGSL MALQW AWLXZ TETYS UXUIR WGOAM TOMKU OEEJS ZTRJH RRSPE NBDBU HFCGZ XPRZX YRBXK HXUCA TRHZZ GGISK BUKMD NKLEX LRWNF MALTA ZRLHX YVWWP CNGAV USFLH VVHGZ JVBVO EFDEW LIEAW GZOGR TSZHU KTVVY IIHWL BAIAF OQTWT LVLNW GBUKF VRKXG ILXGS HAXTE SBRLP LZJLA SOMTS PBCFK BFCLG SACGE FFQSS XXGKL HTLOG NUHQF GSDME NWMPV TLTMZ S\"\n",
    "crack_vigenere(ciphertext)"
   ]
  }
 ],
 "metadata": {
  "kernelspec": {
   "display_name": "Python 3",
   "language": "python",
   "name": "python3"
  },
  "language_info": {
   "codemirror_mode": {
    "name": "ipython",
    "version": 3
   },
   "file_extension": ".py",
   "mimetype": "text/x-python",
   "name": "python",
   "nbconvert_exporter": "python",
   "pygments_lexer": "ipython3",
   "version": "3.8.10"
  }
 },
 "nbformat": 4,
 "nbformat_minor": 2
}
