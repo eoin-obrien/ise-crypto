{
 "cells": [
  {
   "cell_type": "markdown",
   "metadata": {},
   "source": [
    "# Using the Password as the Salt\n",
    "\n",
    "We had a great question in class today about what could happen if the password was hashed, and the resulting digest was used as the salt. Let's explore this idea!"
   ]
  },
  {
   "cell_type": "code",
   "execution_count": 20,
   "metadata": {},
   "outputs": [
    {
     "name": "stdout",
     "output_type": "stream",
     "text": [
      "Defaulting to user installation because normal site-packages is not writeable\n",
      "Requirement already satisfied: pycryptodome in /home/eoin/.local/lib/python3.8/site-packages (3.20.0)\n",
      "\n",
      "\u001b[1m[\u001b[0m\u001b[34;49mnotice\u001b[0m\u001b[1;39;49m]\u001b[0m\u001b[39;49m A new release of pip is available: \u001b[0m\u001b[31;49m23.3.1\u001b[0m\u001b[39;49m -> \u001b[0m\u001b[32;49m24.0\u001b[0m\n",
      "\u001b[1m[\u001b[0m\u001b[34;49mnotice\u001b[0m\u001b[1;39;49m]\u001b[0m\u001b[39;49m To update, run: \u001b[0m\u001b[32;49mpip install --upgrade pip\u001b[0m\n",
      "Note: you may need to restart the kernel to use updated packages.\n"
     ]
    }
   ],
   "source": [
    "%pip install pycryptodome"
   ]
  },
  {
   "cell_type": "markdown",
   "metadata": {},
   "source": [
    "## First Steps\n",
    "\n",
    "Let's start by implementing a simple version of this algorithm. We'll use `pycrptodome` as usual."
   ]
  },
  {
   "cell_type": "code",
   "execution_count": 21,
   "metadata": {},
   "outputs": [],
   "source": [
    "from Crypto.Hash import SHA256\n",
    "from Crypto.Protocol.KDF import scrypt\n",
    "\n",
    "\n",
    "def format_bytes(data: bytes):\n",
    "    return \" \".join(f\"{byte:02x}\" for byte in data)\n",
    "\n",
    "\n",
    "def hash_password(password: str):\n",
    "    # Generate the salt by hashing the password\n",
    "    salt = SHA256.new(password.encode()).digest()\n",
    "\n",
    "    # Hash the password\n",
    "    hashed_password = scrypt(password.encode(), salt, 32, N=2**14, r=8, p=1)\n",
    "\n",
    "    return hashed_password"
   ]
  },
  {
   "cell_type": "markdown",
   "metadata": {},
   "source": [
    "## Digging Deeper\n",
    "\n",
    "Let's try to understand what's happening here and why it's not a good idea to derive the salt from the password like this. First of all, what happens if two different users have the same password?"
   ]
  },
  {
   "cell_type": "code",
   "execution_count": 22,
   "metadata": {},
   "outputs": [
    {
     "name": "stdout",
     "output_type": "stream",
     "text": [
      "User 1's hashed password: 0b 10 01 3d 3a e7 a3 c8 c4 c8 1f e5 b8 1b d2 43 68 c2 70 50 33 ab 18 cd a1 98 90 a3 d9 c9 f7 fb\n",
      "User 2's hashed password: 0b 10 01 3d 3a e7 a3 c8 c4 c8 1f e5 b8 1b d2 43 68 c2 70 50 33 ab 18 cd a1 98 90 a3 d9 c9 f7 fb\n",
      "User 1's hashed password == User 2's hashed password: True\n"
     ]
    }
   ],
   "source": [
    "user_password_1 = \"password123\"\n",
    "user_password_2 = \"password123\"\n",
    "\n",
    "hashed_password_1 = hash_password(user_password_1)\n",
    "hashed_password_2 = hash_password(user_password_2)\n",
    "\n",
    "print(\"User 1's hashed password:\", format_bytes(hashed_password_1))\n",
    "print(\"User 2's hashed password:\", format_bytes(hashed_password_2))\n",
    "\n",
    "print(\"User 1's hashed password == User 2's hashed password:\", hashed_password_1 == hashed_password_2)"
   ]
  },
  {
   "cell_type": "markdown",
   "metadata": {},
   "source": [
    "So it looks like the same password will always produce the same hash. This is not good because it means that if two users have the same password, their hashes will be the same. This is a problem because it means that if an attacker gets access to the database, they can easily identify users with the same password. Cracking one of the passwords will give them access to all the accounts with the same password!\n",
    "\n",
    "This makes sense when you think about it. If the password is the only variable, then it makes sense that the hash will always be the same. This is why we need a unique salt for each user."
   ]
  },
  {
   "cell_type": "markdown",
   "metadata": {},
   "source": [
    "## Pre-Computed Dictionary Attack\n",
    "\n",
    "The same password always producing the same hash is a problem because it makes it easy for an attacker to pre-compute a dictionary of hashes for common passwords. Because the password is the only variable, the hash will always be the same!\n",
    "\n",
    "Let's see how this pre-computation works in practice..."
   ]
  },
  {
   "cell_type": "code",
   "execution_count": 24,
   "metadata": {},
   "outputs": [
    {
     "name": "stdout",
     "output_type": "stream",
     "text": [
      "Password      Hashed Password\n",
      "root          7e 37 55 89 4d d0 d3 f3 ae 5a 59 e8 57 be 81 d6 b8 17 66 a4 59 9e 43 cc b9 7c 33 c1 37 d0 ae 78\n",
      "toor          88 64 c4 20 7c 0c 8f b9 16 ae 82 36 04 9f 56 a4 46 c1 0e 22 6a 20 49 7f 42 c4 51 0e 00 b2 19 0e\n",
      "raspberry     b8 52 78 3d bd df 31 7a 9f 51 78 56 2c 95 12 94 41 b7 e1 14 68 1d 5f 08 31 b9 b6 be 58 b2 00 bb\n",
      "dietpi        e5 03 49 61 23 ed 90 ec 92 fe d1 1d de 54 10 5f 96 c5 c3 cb cc 11 63 d0 d8 d3 86 ff 3e 81 24 4a\n",
      "test          15 4a 6b da 2b e3 2a 74 57 ad f2 6f b3 be 36 fe e5 c8 c9 db d3 55 32 f5 91 11 ed 63 db 6c 3c 8e\n",
      "uploader      a9 d8 c2 4d 9c 21 db 51 70 c9 d9 31 d0 2d f7 83 64 09 50 f9 81 b7 51 e3 fd a0 16 73 af 3a fb a4\n",
      "password      a7 64 79 a0 fd 27 b7 d5 e2 34 d5 b4 41 b1 3e 83 d6 9f 86 46 6d ef f9 30 ed 8c b6 14 13 21 c8 96\n",
      "admin         96 41 20 e1 ce ac 2f d0 08 2e f8 11 8a 3e 93 3d dc 47 ac 9a 7a 09 97 4c 9a 0e 97 2a 8b 49 49 ea\n",
      "administrator 85 3b 14 e3 0f a0 fa 3d a6 fd 53 6d 2b ed 13 01 89 ac 82 09 7a 48 6e a4 24 52 c4 05 7f dd 8d ed\n",
      "marketing     e9 14 48 2d 82 0e 08 65 f4 f8 a8 bf 5a f2 70 c6 84 0c 49 b9 a2 96 63 eb 70 82 b3 96 15 4b 26 b5\n",
      "12345678      0d aa 2f 77 a7 96 aa ff c5 60 d2 48 e0 67 5b 83 f9 8d d8 40 3f 6f 99 2f b6 b1 af a5 86 06 63 35\n",
      "1234          db ec 63 f8 2f cb f4 11 25 68 d8 77 bb c6 33 1e 5c 24 77 de c9 a0 7c 86 e8 b8 4d 04 c7 20 8a 5d\n",
      "12345         ea 87 e3 cd 89 46 a7 3a 4f 00 de a0 42 42 0a ef 1c 77 6d 12 e6 7b 85 a0 78 65 50 94 52 0d 06 25\n",
      "qwerty        45 55 67 95 ec 49 2d 0f 0d 3b 4d a0 4c ae 28 92 16 be 7b c9 d6 63 c6 82 ef b3 f2 d1 b4 4c 4c 90\n",
      "webadmin      dc 0d 2b 28 d3 f5 68 60 93 0f 6a 1c 29 2c ab 5b 29 e0 39 49 ce a7 51 9f 60 c8 42 f3 4e b4 6b 1e\n",
      "webmaster     f9 f1 44 c0 8b bc a5 7f d9 90 00 28 01 4a 04 d1 85 8b a1 8a 9c 2b 96 00 68 00 86 31 6c 96 bc df\n",
      "maintenance   28 43 99 7f ce 07 69 1c 59 ce 0e 47 ce 57 1d d6 d3 2d f0 a6 19 6a 19 2a 9c 4f 24 12 1e d6 25 a6\n",
      "techsupport   76 97 44 99 07 7f 97 33 82 eb ef 6f 43 f4 d4 0d ce 73 70 94 f0 28 db 11 4f f5 16 96 c9 fe bb 00\n",
      "letmein       18 1e 39 8b dc b6 49 b8 15 62 d6 22 33 49 6f 8e 58 22 7b 55 80 6e 31 4b 6d 10 31 18 7b 32 43 46\n",
      "logon         7c 45 49 92 e5 e7 68 08 2a 6f 94 6c 52 38 61 c9 b3 8c af fb 46 42 cb 18 da b2 79 a3 ad 11 52 0a\n",
      "Passw@rd      81 f7 87 58 30 4f 05 75 27 4c 0c ce ab a6 64 86 7f 24 89 b2 43 ba 45 e3 b9 07 ae 83 1f de 53 b7\n",
      "alpine        42 2a 97 b2 2f 5b e8 17 01 18 d1 2b 12 79 cf 52 45 d0 0a fa 91 0f 47 7c d6 06 e0 cc 6d ef e5 b5\n"
     ]
    }
   ],
   "source": [
    "import requests\n",
    "\n",
    "\n",
    "def fetch_passwords():\n",
    "    # There are many other password lists available here, feel free to try them out!\n",
    "    # I picked this one because it's small and easy to read... and doesn't contain anything offensive.\n",
    "    # The same can't be said for the others...\n",
    "    url = \"https://raw.githubusercontent.com/danielmiessler/SecLists/master/Passwords/Common-Credentials/top-20-common-SSH-passwords.txt\"\n",
    "    response = requests.get(url)\n",
    "    if response.status_code == 200:\n",
    "        content = response.text\n",
    "        passwords = content.strip().split(\"\\n\")\n",
    "        return passwords\n",
    "    else:\n",
    "        raise Exception(\"Failed to fetch the URL:\", response.status_code)\n",
    "\n",
    "\n",
    "passwords = fetch_passwords()\n",
    "max_len = max(len(password) for password in passwords)\n",
    "print(\"Password\".ljust(max_len), \"Hashed Password\")\n",
    "for password in passwords:\n",
    "    hashed_password = hash_password(password)\n",
    "    print(password.ljust(max_len), format_bytes(hashed_password))"
   ]
  },
  {
   "cell_type": "markdown",
   "metadata": {},
   "source": [
    "A pre-computed dictionary attack is viable against this scheme because the salt is derived from the password. In fact, this scheme doesn't add any security at all! It's equivalent to not using a salt at all."
   ]
  },
  {
   "cell_type": "markdown",
   "metadata": {},
   "source": [
    "## Conclusion\n",
    "\n",
    "Stick to the standard way of hashing passwords. Use a unique salt for each user and store it in the database. Don't derive the salt from the password itself. Generating a random salt for each user and password is the way to go! Don't forget to use a fresh salt each time a user changes their password too."
   ]
  }
 ],
 "metadata": {
  "kernelspec": {
   "display_name": "Python 3",
   "language": "python",
   "name": "python3"
  },
  "language_info": {
   "codemirror_mode": {
    "name": "ipython",
    "version": 3
   },
   "file_extension": ".py",
   "mimetype": "text/x-python",
   "name": "python",
   "nbconvert_exporter": "python",
   "pygments_lexer": "ipython3",
   "version": "3.8.10"
  }
 },
 "nbformat": 4,
 "nbformat_minor": 2
}
