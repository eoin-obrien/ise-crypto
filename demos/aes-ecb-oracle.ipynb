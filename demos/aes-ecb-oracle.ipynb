{
 "cells": [
  {
   "cell_type": "markdown",
   "metadata": {},
   "source": [
    "# Cracking AES-ECB"
   ]
  },
  {
   "cell_type": "code",
   "execution_count": 7,
   "metadata": {},
   "outputs": [],
   "source": [
    "import secrets\n",
    "\n",
    "# Generate a secret key\n",
    "secret_key = secrets.token_bytes(16)\n",
    "cracked_message = b\"Hello, world! This is a secret message; in theory, we shouldn't be able to decrypt it without the key.\""
   ]
  },
  {
   "cell_type": "code",
   "execution_count": 8,
   "metadata": {},
   "outputs": [],
   "source": [
    "from Crypto.Cipher import AES\n",
    "\n",
    "\n",
    "def aes_ecb_encrypt(plaintext: bytes, key: bytes):\n",
    "    # Pad the plaintext to a multiple of 16 bytes\n",
    "    plaintext += b\"\\x00\" * (16 - len(plaintext) % 16)\n",
    "    # Encrypt the plaintext with AES-128-ECB\n",
    "    cipher = AES.new(key, AES.MODE_ECB)\n",
    "    return cipher.encrypt(plaintext)\n",
    "\n",
    "\n",
    "def aes_ecb_decrypt(ciphertext: bytes, key: bytes):\n",
    "    # Decrypt the ciphertext with AES-128-ECB\n",
    "    cipher = AES.new(key, AES.MODE_ECB)\n",
    "    return cipher.decrypt(ciphertext)\n",
    "\n",
    "\n",
    "def post_to_server(message: bytes):\n",
    "    # Append the secret message to the user's message before encrypting\n",
    "    ciphertext = aes_ecb_encrypt(message + cracked_message, secret_key)\n",
    "    # Send the ciphertext back to the user\n",
    "    return ciphertext"
   ]
  },
  {
   "cell_type": "code",
   "execution_count": 9,
   "metadata": {},
   "outputs": [
    {
     "data": {
      "text/plain": [
       "b'\\xd3Z\\xd3 \\xdf\\x1f~\\xfc\\xb1\\xd4P\\xb0pb\\x89:\\xfd\\xeaxU7f}\\xed\\x96Y\\xb3\\x7f\\xf7\\'\\x88\\x12lp\\xd2\\x9c\\x8cf\\x9d\\xdf\\x04\\x90\\xf4\\xd2\\xf9h\\x94P\\xc1.\"\\xd5D\\x1a\\x01\\xab\\x970+\\xb4G\\x97|\\xf0\\x85p\\xfe[\\xaf\\xa2\\n1\\xd9\\x0e\\xa9\\x00~\\xc2w\\x1b\\xf7h\\xe7\\x02\\x94\\x9d\\xbbYy\\xb7\\xf4\\xcdY\\x85\\xedQ\\xab\\\\\\xd7\\xad28-\\xfc\\xff\\xf8ayH\\x80\\xb3\\x99'"
      ]
     },
     "execution_count": 9,
     "metadata": {},
     "output_type": "execute_result"
    }
   ],
   "source": [
    "# Let's try to post a message to the server\n",
    "post_to_server(b'')"
   ]
  },
  {
   "cell_type": "code",
   "execution_count": 10,
   "metadata": {},
   "outputs": [
    {
     "name": "stdout",
     "output_type": "stream",
     "text": [
      "First block: 445619079bf203c32b2e33d4c1ec4376\n",
      "Guessed byte: H\n"
     ]
    }
   ],
   "source": [
    "# Inject 15 bytes of known plaintext\n",
    "known_plaintext = b'\\x00' * 15\n",
    "ciphertext = post_to_server(known_plaintext)\n",
    "first_block = ciphertext[:16]\n",
    "print(f\"First block: {first_block.hex()}\")\n",
    "\n",
    "# Brute-force the last byte of the secret message\n",
    "for i in range(256):\n",
    "    guessed_byte = bytes((i,))\n",
    "    guessed_plaintext = known_plaintext + bytes([i])\n",
    "    ciphertext = post_to_server(guessed_plaintext)\n",
    "    # Check if the first block of the ciphertext matches the first block of the secret message\n",
    "    if ciphertext[:16] == first_block:\n",
    "        print(f\"Guessed byte: {guessed_byte.decode()}\")\n",
    "        break"
   ]
  },
  {
   "cell_type": "code",
   "execution_count": 11,
   "metadata": {},
   "outputs": [
    {
     "name": "stdout",
     "output_type": "stream",
     "text": [
      "Secret message: Hello, world! This is a secret message; in theory, we shouldn't be able to decrypt it without the key.\u0000\u0000\u0000\u0000\u0000\u0000\u0000\u0000\u0000\u0000\n"
     ]
    }
   ],
   "source": [
    "# Let's generalize the attack to recover the entire secret message!\n",
    "def crack_ecb_secret_message():\n",
    "    # Initialize the secret message to an empty byte string\n",
    "    cracked_message = b\"\"\n",
    "    # Iterate over the length of the secret message\n",
    "    for i in range(len(post_to_server(b\"\"))):\n",
    "        # Inject 15 bytes of known plaintext\n",
    "        known_plaintext = b\"\\x00\" * (15 - (i % 16))\n",
    "        # Find the ciphertext block containing the next byte of the secret message\n",
    "        block_index = i // 16 * 16\n",
    "        block_slice = slice(block_index, block_index + 16)\n",
    "        block = post_to_server(known_plaintext)[block_slice]\n",
    "        # Brute-force the next byte of the secret message\n",
    "        for j in range(256):\n",
    "            guessed_byte = bytes((j,))\n",
    "            guessed_plaintext = known_plaintext + cracked_message + guessed_byte\n",
    "            ciphertext = post_to_server(guessed_plaintext)\n",
    "            # Check if the chosen block of the ciphertext matches the chosen block of the secret message\n",
    "            if ciphertext[block_slice] == block:\n",
    "                cracked_message += guessed_byte\n",
    "                break\n",
    "    return cracked_message\n",
    "\n",
    "\n",
    "print(f\"Secret message: {crack_ecb_secret_message().decode()}\")"
   ]
  }
 ],
 "metadata": {
  "kernelspec": {
   "display_name": "Python 3",
   "language": "python",
   "name": "python3"
  },
  "language_info": {
   "codemirror_mode": {
    "name": "ipython",
    "version": 3
   },
   "file_extension": ".py",
   "mimetype": "text/x-python",
   "name": "python",
   "nbconvert_exporter": "python",
   "pygments_lexer": "ipython3",
   "version": "3.8.10"
  }
 },
 "nbformat": 4,
 "nbformat_minor": 2
}
