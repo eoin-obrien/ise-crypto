{
 "cells": [
  {
   "cell_type": "markdown",
   "metadata": {},
   "source": [
    "# CBC Padding Oracle Attack\n",
    "\n",
    "Padding might seem harmless, but if we can just figure out whether PKCS#5/PKCS#7 padding is correct or not, we can decrypt the entire message. A padding oracle is some function that tells us whether the padding of a given ciphertext is correct or not. In reality, this is a very common vulnerability in web applications! It might be present as an error returned to the caller, or through a side-channel attack, such as noticing that the server takes longer to respond when the padding is correct. AWS's s2n implementation of TLS ended up disabling support for CBC mode altogether after it was found to be vulnerable to the timing attack version in 2015... a full 13 years after the attack was first published!"
   ]
  },
  {
   "cell_type": "markdown",
   "metadata": {},
   "source": [
    "## PKCS#7 Padding\n",
    "\n",
    "Let's start by defining our pad/unpad functions!"
   ]
  },
  {
   "cell_type": "code",
   "execution_count": 119,
   "metadata": {},
   "outputs": [
    {
     "name": "stdout",
     "output_type": "stream",
     "text": [
      "Plaintext: 48656c6c6f2c20776f726c6421\n",
      "Padded:    48656c6c6f2c20776f726c6421030303\n",
      "Unpadded:  48656c6c6f2c20776f726c6421\n"
     ]
    }
   ],
   "source": [
    "def pad(plaintext: bytes, block_size: int) -> bytes:\n",
    "    padding = block_size - (len(plaintext) % block_size)\n",
    "    return plaintext + bytes([padding] * padding)\n",
    "\n",
    "\n",
    "def unpad(padded: bytes) -> bytes:\n",
    "    padding = padded[-1]\n",
    "    if padding == 0 or padding > len(padded):\n",
    "        raise ValueError(\"Invalid padding\")\n",
    "    if any(p != padding for p in padded[-padding:]):\n",
    "        raise ValueError(\"Invalid padding\")\n",
    "    return padded[:-padding]\n",
    "\n",
    "\n",
    "def demo_padding():\n",
    "    plaintext = b\"Hello, world!\"\n",
    "    block_size = 16\n",
    "    padded = pad(plaintext, block_size)\n",
    "    indent = 10\n",
    "    print(\"Plaintext:\".ljust(indent), plaintext.hex())\n",
    "    print(\"Padded:\".ljust(indent), padded.hex())\n",
    "    print(\"Unpadded:\".ljust(indent), unpad(padded).hex())\n",
    "\n",
    "\n",
    "demo_padding()"
   ]
  },
  {
   "cell_type": "markdown",
   "metadata": {},
   "source": [
    "## The Padding Oracle\n",
    "\n",
    "Now, let's define our padding oracle. We pass it some ciphertext, and it decrypts it and checks the plaintext's padding. It will return `True` if the padding is correct, and `False` otherwise. This is simulating a real-life server; in a real attack, we would have to send the ciphertext to the server and check the response, or measure the time it takes to respond."
   ]
  },
  {
   "cell_type": "code",
   "execution_count": 120,
   "metadata": {},
   "outputs": [],
   "source": [
    "import secrets\n",
    "from Crypto.Cipher import AES\n",
    "\n",
    "# The secret key used for encryption/decryption by the server\n",
    "# We won't have access to this key during the attack\n",
    "secret_key = secrets.token_bytes(AES.key_size[0])\n",
    "\n",
    "def xor_bytes(a: bytes, b: bytes) -> bytes:\n",
    "    return bytes(x ^ y for x, y in zip(a, b))\n",
    "\n",
    "# We can't use this function in the attack\n",
    "def aes_cbc_encrypt(plaintext: bytes, key: bytes) -> bytes:\n",
    "    iv = secrets.token_bytes(AES.block_size)\n",
    "    cipher = AES.new(key, AES.MODE_CBC, iv=iv)\n",
    "    return iv + cipher.encrypt(plaintext)\n",
    "\n",
    "\n",
    "# We can't use this function in the attack\n",
    "def aes_cbc_decrypt(ciphertext: bytes, key: bytes) -> bytes:\n",
    "    iv, ciphertext = ciphertext[:AES.block_size], ciphertext[AES.block_size:]\n",
    "    cipher = AES.new(key, AES.MODE_CBC, iv=iv)\n",
    "    return cipher.decrypt(ciphertext)\n",
    "\n",
    "\n",
    "# This is the only encryption-related function we can use in the attack!\n",
    "# Note that the IV is prepended to the ciphertext\n",
    "def padding_oracle(ciphertext: bytes) -> bool:\n",
    "    plaintext = aes_cbc_decrypt(ciphertext, secret_key)\n",
    "    try:\n",
    "        unpad(plaintext)\n",
    "        return True\n",
    "    except ValueError:\n",
    "        return False"
   ]
  },
  {
   "cell_type": "markdown",
   "metadata": {},
   "source": [
    "## The Intercepted Message\n",
    "\n",
    "We've intercepted an IV and ciphertext that we want to decrypt. Let's generate an example first, then proceed to the attack!"
   ]
  },
  {
   "cell_type": "code",
   "execution_count": 121,
   "metadata": {},
   "outputs": [
    {
     "name": "stdout",
     "output_type": "stream",
     "text": [
      "ad38 e9c3 3307 2dca e93f cd1c 7027 866f d877 ce47 7578 ed1f e275 220c 10ee 46f6 1666 487d af0e b1b2 8714 9ca9 c25c b4b7 647f 464d f193 64c9 4e01 b6b0 9a58 fd46 8661 80d7 d815 bb97 a289 c644 f321 37c6 f762 a59c 0dc3 8bec d656 3cfe 7d8e 0dff ca9d 0f7d 0f33 ce6b 683d 9128 7b56 54c6\n"
     ]
    }
   ],
   "source": [
    "def encrypt_secret_message() -> bytes:\n",
    "    plaintext = b\"Comic Sans is the best font! This is top-secret info that I'd rather not reveal...\"\n",
    "    plaintext = pad(plaintext, AES.block_size)\n",
    "    ciphertext = aes_cbc_encrypt(plaintext, secret_key)\n",
    "    return ciphertext\n",
    "\n",
    "intercepted_ciphertext = encrypt_secret_message()\n",
    "print(intercepted_ciphertext.hex(' ', 2))"
   ]
  },
  {
   "cell_type": "markdown",
   "metadata": {},
   "source": [
    "## The Attack\n",
    "\n",
    "Okay, this is the part you've been waiting for! Let's exploit the padding oracle and see if we can crack the message we've intercepted. Knowing if a message's padding is valid or not leaks information about the plaintext. It's not as drastically obvious as our attack on ECB mode, and there's more maths involved, but it's just as effective at cracking CBC mode! It's proven to be fiendishly difficult to patch in real-world systems too."
   ]
  },
  {
   "cell_type": "code",
   "execution_count": 122,
   "metadata": {},
   "outputs": [
    {
     "data": {
      "text/plain": [
       "\"Comic Sans is the best font! This is top-secret info that I'd rather not reveal...\""
      ]
     },
     "execution_count": 122,
     "metadata": {},
     "output_type": "execute_result"
    }
   ],
   "source": [
    "def blocks(ciphertext: bytes):\n",
    "    return [\n",
    "        ciphertext[i : i + AES.block_size]\n",
    "        for i in range(0, len(ciphertext), AES.block_size)\n",
    "    ]\n",
    "\n",
    "\n",
    "def find_padding_size(iv: bytes, r: bytes, c: bytes) -> int:\n",
    "    # We could treat all of these as preconditions, but it's a useful sanity check!\n",
    "    if len(r) != AES.block_size:\n",
    "        raise ValueError(\"R must be a single block\")\n",
    "    if len(c) != AES.block_size:\n",
    "        raise ValueError(\"C must be a single block\")\n",
    "    if not padding_oracle(iv + r + c):\n",
    "        raise ValueError(\"R || C must have valid padding\")\n",
    "\n",
    "    # Copy R so we don't modify the original\n",
    "    r = bytearray(r)\n",
    "    for i in range(len(r)):\n",
    "        # Flip a bit in the i-th byte of R\n",
    "        r[i] ^= 1\n",
    "        # If that invalidates the padding, then the i-th byte of R is the start of the padding\n",
    "        if not padding_oracle(r + c):\n",
    "            return len(r) - i\n",
    "\n",
    "\n",
    "def padding_oracle_attack():\n",
    "    original_iv, *original_ciphertext = blocks(intercepted_ciphertext)\n",
    "    prev_ciphertext = [original_iv] + original_ciphertext[:-1]\n",
    "    plaintext = b\"\"\n",
    "\n",
    "    # We're going to use this null block as the IV when asking the oracle about padding.\n",
    "    # This is to illustrate that it really doesn't matter! You can make this any value and it'll still work.\n",
    "    # In fact, even if we don't know the IV for the intercepted message, we can still decrypt all but the first block!\n",
    "    zero_iv = bytearray(AES.block_size)\n",
    "\n",
    "    for c, prev_c in zip(original_ciphertext, prev_ciphertext):\n",
    "        dc = bytearray(AES.block_size)\n",
    "        r = bytearray(AES.block_size)\n",
    "        # Try different values for the last byte of R until r || c has valid padding\n",
    "        while not padding_oracle(zero_iv + r + c):\n",
    "            r[-1] += 1\n",
    "        # Now we know that the padding is valid, but we don't know if it's 01, 02 02, 03 03 03 or larger!\n",
    "        padding_size = find_padding_size(zero_iv, r, c)\n",
    "        # With n bytes of padding, we can recover the last n bytes of the block cipher output!\n",
    "        dc[-padding_size:] = xor_bytes(\n",
    "            r[-padding_size:], bytes([padding_size] * padding_size)\n",
    "        )\n",
    "        # Now we can recover the rest of the block cipher output\n",
    "        for i in range(AES.block_size - padding_size - 1, -1, -1):\n",
    "            # Change R so that the previous padding bytes are incremented by 1\n",
    "            padding = AES.block_size - i\n",
    "            r[i + 1 :] = xor_bytes(dc[i + 1 :], bytes([padding] * len(r[i + 1 :])))\n",
    "            # Find the value for the i-th byte of R that results in valid padding\n",
    "            while not padding_oracle(zero_iv + r + c):\n",
    "                r[i] += 1\n",
    "            # Recover the i-th byte of the block cipher output\n",
    "            dc[i] = r[i] ^ padding\n",
    "\n",
    "        # XOR the decrypted block with the previous ciphertext block to recover the plaintext\n",
    "        plaintext += xor_bytes(dc, prev_c)\n",
    "\n",
    "    return unpad(plaintext).decode()\n",
    "\n",
    "\n",
    "padding_oracle_attack()"
   ]
  }
 ],
 "metadata": {
  "kernelspec": {
   "display_name": "Python 3",
   "language": "python",
   "name": "python3"
  },
  "language_info": {
   "codemirror_mode": {
    "name": "ipython",
    "version": 3
   },
   "file_extension": ".py",
   "mimetype": "text/x-python",
   "name": "python",
   "nbconvert_exporter": "python",
   "pygments_lexer": "ipython3",
   "version": "3.8.10"
  }
 },
 "nbformat": 4,
 "nbformat_minor": 2
}
